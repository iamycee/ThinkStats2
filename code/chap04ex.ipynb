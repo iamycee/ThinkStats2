{
 "cells": [
  {
   "cell_type": "markdown",
   "metadata": {},
   "source": [
    "# Examples and Exercises from Think Stats, 2nd Edition\n",
    "\n",
    "http://thinkstats2.com\n",
    "\n",
    "Copyright 2016 Allen B. Downey\n",
    "\n",
    "MIT License: https://opensource.org/licenses/MIT\n"
   ]
  },
  {
   "cell_type": "code",
   "execution_count": 1,
   "metadata": {},
   "outputs": [],
   "source": [
    "from __future__ import print_function, division\n",
    "\n",
    "%matplotlib inline\n",
    "\n",
    "import numpy as np\n",
    "\n",
    "import nsfg\n",
    "import first\n",
    "import thinkstats2\n",
    "import thinkplot"
   ]
  },
  {
   "cell_type": "markdown",
   "metadata": {},
   "source": [
    "## Examples\n",
    "\n",
    "One more time, I'll load the data from the NSFG."
   ]
  },
  {
   "cell_type": "code",
   "execution_count": 2,
   "metadata": {
    "collapsed": true
   },
   "outputs": [],
   "source": [
    "live, firsts, others = first.MakeFrames()"
   ]
  },
  {
   "cell_type": "markdown",
   "metadata": {},
   "source": [
    "And compute the distribution of birth weight for first babies and others."
   ]
  },
  {
   "cell_type": "code",
   "execution_count": 3,
   "metadata": {},
   "outputs": [
    {
     "name": "stdout",
     "output_type": "stream",
     "text": [
      "Firsts 4413 4363\n",
      "Others 4735 4675\n"
     ]
    }
   ],
   "source": [
    "first_wgt = firsts.totalwgt_lb\n",
    "first_wgt_dropna = first_wgt.dropna()\n",
    "print('Firsts', len(first_wgt), len(first_wgt_dropna))\n",
    " \n",
    "other_wgt = others.totalwgt_lb\n",
    "other_wgt_dropna = other_wgt.dropna()\n",
    "print('Others', len(other_wgt), len(other_wgt_dropna))\n",
    "\n",
    "first_pmf = thinkstats2.Pmf(first_wgt_dropna, label='first')\n",
    "other_pmf = thinkstats2.Pmf(other_wgt_dropna, label='other')"
   ]
  },
  {
   "cell_type": "markdown",
   "metadata": {},
   "source": [
    "We can plot the PMFs on the same scale, but it is hard to see if there is a difference."
   ]
  },
  {
   "cell_type": "code",
   "execution_count": 4,
   "metadata": {},
   "outputs": [
    {
     "data": {
      "image/png": "[encoded data removed]",
      "text/plain": [
       "<matplotlib.figure.Figure at 0x7f2d002d6350>"
      ]
     },
     "metadata": {},
     "output_type": "display_data"
    }
   ],
   "source": [
    "width = 0.4 / 16\n",
    "\n",
    "# plot PMFs of birth weights for first babies and others\n",
    "thinkplot.PrePlot(2)\n",
    "thinkplot.Hist(first_pmf, align='right', width=width)\n",
    "thinkplot.Hist(other_pmf, align='left', width=width)\n",
    "thinkplot.Config(xlabel='Weight (pounds)', ylabel='PMF')"
   ]
  },
  {
   "cell_type": "markdown",
   "metadata": {},
   "source": [
    "`PercentileRank` computes the fraction of `scores` less than or equal to `your_score`."
   ]
  },
  {
   "cell_type": "code",
   "execution_count": 5,
   "metadata": {
    "collapsed": true
   },
   "outputs": [],
   "source": [
    "def PercentileRank(scores, your_score):\n",
    "    count = 0\n",
    "    for score in scores:\n",
    "        if score <= your_score:\n",
    "            count += 1\n",
    "\n",
    "    percentile_rank = 100.0 * count / len(scores)\n",
    "    return percentile_rank"
   ]
  },
  {
   "cell_type": "markdown",
   "metadata": {},
   "source": [
    "If this is the list of scores."
   ]
  },
  {
   "cell_type": "code",
   "execution_count": 6,
   "metadata": {
    "collapsed": true
   },
   "outputs": [],
   "source": [
    "t = [55, 66, 77, 88, 99]"
   ]
  },
  {
   "cell_type": "markdown",
   "metadata": {},
   "source": [
    "And you got the 88, your percentile rank is 80."
   ]
  },
  {
   "cell_type": "code",
   "execution_count": 7,
   "metadata": {},
   "outputs": [
    {
     "data": {
      "text/plain": [
       "80.0"
      ]
     },
     "execution_count": 7,
     "metadata": {},
     "output_type": "execute_result"
    }
   ],
   "source": [
    "PercentileRank(t, 88)"
   ]
  },
  {
   "cell_type": "markdown",
   "metadata": {},
   "source": [
    "`Percentile` takes a percentile rank and computes the corresponding percentile. "
   ]
  },
  {
   "cell_type": "code",
   "execution_count": 8,
   "metadata": {
    "collapsed": true
   },
   "outputs": [],
   "source": [
    "def Percentile(scores, percentile_rank):\n",
    "    scores.sort()\n",
    "    for score in scores:\n",
    "        if PercentileRank(scores, score) >= percentile_rank:\n",
    "            return score"
   ]
  },
  {
   "cell_type": "markdown",
   "metadata": {},
   "source": [
    "The median is the 50th percentile, which is 77."
   ]
  },
  {
   "cell_type": "code",
   "execution_count": 9,
   "metadata": {},
   "outputs": [
    {
     "data": {
      "text/plain": [
       "77"
      ]
     },
     "execution_count": 9,
     "metadata": {},
     "output_type": "execute_result"
    }
   ],
   "source": [
    "Percentile(t, 50)"
   ]
  },
  {
   "cell_type": "markdown",
   "metadata": {},
   "source": [
    "Here's a more efficient way to compute percentiles."
   ]
  },
  {
   "cell_type": "code",
   "execution_count": 10,
   "metadata": {
    "collapsed": true
   },
   "outputs": [],
   "source": [
    "def Percentile2(scores, percentile_rank):\n",
    "    scores.sort()\n",
    "    index = percentile_rank * (len(scores)-1) // 100\n",
    "    return scores[index]"
   ]
  },
  {
   "cell_type": "markdown",
   "metadata": {},
   "source": [
    "Let's hope we get the same answer."
   ]
  },
  {
   "cell_type": "code",
   "execution_count": 11,
   "metadata": {},
   "outputs": [
    {
     "data": {
      "text/plain": [
       "77"
      ]
     },
     "execution_count": 11,
     "metadata": {},
     "output_type": "execute_result"
    }
   ],
   "source": [
    "Percentile2(t, 50)"
   ]
  },
  {
   "cell_type": "markdown",
   "metadata": {},
   "source": [
    "The Cumulative Distribution Function (CDF) is almost the same as `PercentileRank`.  The only difference is that the result is 0-1 instead of 0-100."
   ]
  },
  {
   "cell_type": "code",
   "execution_count": 12,
   "metadata": {
    "collapsed": true
   },
   "outputs": [],
   "source": [
    "def EvalCdf(sample, x):\n",
    "    count = 0.0\n",
    "    for value in sample:\n",
    "        if value <= x:\n",
    "            count += 1\n",
    "\n",
    "    prob = count / len(sample)\n",
    "    return prob"
   ]
  },
  {
   "cell_type": "markdown",
   "metadata": {},
   "source": [
    "In this list"
   ]
  },
  {
   "cell_type": "code",
   "execution_count": 13,
   "metadata": {
    "collapsed": true
   },
   "outputs": [],
   "source": [
    "t = [1, 2, 2, 3, 5]"
   ]
  },
  {
   "cell_type": "markdown",
   "metadata": {},
   "source": [
    "We can evaluate the CDF for various values:"
   ]
  },
  {
   "cell_type": "code",
   "execution_count": 14,
   "metadata": {},
   "outputs": [
    {
     "data": {
      "text/plain": [
       "(0.0, 0.2, 0.6, 0.8, 0.8, 1.0)"
      ]
     },
     "execution_count": 14,
     "metadata": {},
     "output_type": "execute_result"
    }
   ],
   "source": [
    "EvalCdf(t, 0), EvalCdf(t, 1), EvalCdf(t, 2), EvalCdf(t, 3), EvalCdf(t, 4), EvalCdf(t, 5)"
   ]
  },
  {
   "cell_type": "markdown",
   "metadata": {},
   "source": [
    "Here's an example using real data, the distribution of pregnancy length for live births."
   ]
  },
  {
   "cell_type": "code",
   "execution_count": 15,
   "metadata": {},
   "outputs": [
    {
     "data": {
      "image/png": "[encoded data removed]",
      "text/plain": [
       "<matplotlib.figure.Figure at 0x7f2cd0206450>"
      ]
     },
     "metadata": {},
     "output_type": "display_data"
    }
   ],
   "source": [
    "cdf = thinkstats2.Cdf(live.prglngth, label='prglngth')\n",
    "thinkplot.Cdf(cdf)\n",
    "thinkplot.Config(xlabel='Pregnancy length (weeks)', ylabel='CDF', loc='upper left')"
   ]
  },
  {
   "cell_type": "markdown",
   "metadata": {},
   "source": [
    "`Cdf` provides `Prob`, which evaluates the CDF; that is, it computes the fraction of values less than or equal to the given value.  For example, 94% of pregnancy lengths are less than or equal to 41."
   ]
  },
  {
   "cell_type": "code",
   "execution_count": 16,
   "metadata": {},
   "outputs": [
    {
     "data": {
      "text/plain": [
       "0.94064276344556186"
      ]
     },
     "execution_count": 16,
     "metadata": {},
     "output_type": "execute_result"
    }
   ],
   "source": [
    "cdf.Prob(41)"
   ]
  },
  {
   "cell_type": "markdown",
   "metadata": {
    "collapsed": true
   },
   "source": [
    "`Value` evaluates the inverse CDF; given a fraction, it computes the corresponding value.  For example, the median is the value that corresponds to 0.5."
   ]
  },
  {
   "cell_type": "code",
   "execution_count": 17,
   "metadata": {},
   "outputs": [
    {
     "data": {
      "text/plain": [
       "39"
      ]
     },
     "execution_count": 17,
     "metadata": {},
     "output_type": "execute_result"
    }
   ],
   "source": [
    "cdf.Value(0.5)"
   ]
  },
  {
   "cell_type": "markdown",
   "metadata": {},
   "source": [
    "In general, CDFs are a good way to visualize distributions.  They are not as noisy as PMFs, and if you plot several CDFs on the same axes, any differences between them are apparent."
   ]
  },
  {
   "cell_type": "code",
   "execution_count": 18,
   "metadata": {},
   "outputs": [
    {
     "data": {
      "image/png": "[encoded data removed]",
      "text/plain": [
       "<matplotlib.figure.Figure at 0x7f2cd0747bd0>"
      ]
     },
     "metadata": {},
     "output_type": "display_data"
    }
   ],
   "source": [
    "first_cdf = thinkstats2.Cdf(firsts.totalwgt_lb, label='first')\n",
    "other_cdf = thinkstats2.Cdf(others.totalwgt_lb, label='other')\n",
    "\n",
    "thinkplot.PrePlot(2)\n",
    "thinkplot.Cdfs([first_cdf, other_cdf])\n",
    "thinkplot.Config(xlabel='Weight (pounds)', ylabel='CDF')"
   ]
  },
  {
   "cell_type": "markdown",
   "metadata": {},
   "source": [
    "In this example, we can see that first babies are slightly, but consistently, lighter than others.\n",
    "\n",
    "We can use the CDF of birth weight to compute percentile-based statistics."
   ]
  },
  {
   "cell_type": "code",
   "execution_count": 19,
   "metadata": {
    "collapsed": true
   },
   "outputs": [],
   "source": [
    "weights = live.totalwgt_lb\n",
    "live_cdf = thinkstats2.Cdf(weights, label='live')"
   ]
  },
  {
   "cell_type": "markdown",
   "metadata": {},
   "source": [
    "Again, the median is the 50th percentile."
   ]
  },
  {
   "cell_type": "code",
   "execution_count": 20,
   "metadata": {},
   "outputs": [
    {
     "data": {
      "text/plain": [
       "7.375"
      ]
     },
     "execution_count": 20,
     "metadata": {},
     "output_type": "execute_result"
    }
   ],
   "source": [
    "median = live_cdf.Percentile(50)\n",
    "median"
   ]
  },
  {
   "cell_type": "markdown",
   "metadata": {},
   "source": [
    "The interquartile range is the interval from the 25th to 75th percentile."
   ]
  },
  {
   "cell_type": "code",
   "execution_count": 21,
   "metadata": {},
   "outputs": [
    {
     "data": {
      "text/plain": [
       "(6.5, 8.125)"
      ]
     },
     "execution_count": 21,
     "metadata": {},
     "output_type": "execute_result"
    }
   ],
   "source": [
    "iqr = (live_cdf.Percentile(25), live_cdf.Percentile(75))\n",
    "iqr"
   ]
  },
  {
   "cell_type": "markdown",
   "metadata": {},
   "source": [
    "We can use the CDF to look up the percentile rank of a particular value.  For example, my second daughter was 10.2 pounds at birth, which is near the 99th percentile."
   ]
  },
  {
   "cell_type": "code",
   "execution_count": 22,
   "metadata": {},
   "outputs": [
    {
     "data": {
      "text/plain": [
       "98.827174153573807"
      ]
     },
     "execution_count": 22,
     "metadata": {},
     "output_type": "execute_result"
    }
   ],
   "source": [
    "live_cdf.PercentileRank(10.2)"
   ]
  },
  {
   "cell_type": "markdown",
   "metadata": {},
   "source": [
    "If we draw a random sample from the observed weights and map each weigh to its percentile rank."
   ]
  },
  {
   "cell_type": "code",
   "execution_count": 23,
   "metadata": {
    "collapsed": true
   },
   "outputs": [],
   "source": [
    "sample = np.random.choice(weights, 100, replace=True)\n",
    "ranks = [live_cdf.PercentileRank(x) for x in sample]"
   ]
  },
  {
   "cell_type": "markdown",
   "metadata": {},
   "source": [
    "The resulting list of ranks should be approximately uniform from 0-1."
   ]
  },
  {
   "cell_type": "code",
   "execution_count": 24,
   "metadata": {},
   "outputs": [
    {
     "data": {
      "image/png": "[encoded data removed]",
      "text/plain": [
       "<matplotlib.figure.Figure at 0x7f2cd0125390>"
      ]
     },
     "metadata": {},
     "output_type": "display_data"
    }
   ],
   "source": [
    "rank_cdf = thinkstats2.Cdf(ranks)\n",
    "thinkplot.Cdf(rank_cdf)\n",
    "thinkplot.Config(xlabel='Percentile rank', ylabel='CDF')"
   ]
  },
  {
   "cell_type": "markdown",
   "metadata": {},
   "source": [
    "That observation is the basis of `Cdf.Sample`, which generates a random sample from a Cdf.  Here's an example."
   ]
  },
  {
   "cell_type": "code",
   "execution_count": 25,
   "metadata": {},
   "outputs": [
    {
     "data": {
      "image/png": "[encoded data removed]",
      "text/plain": [
       "<matplotlib.figure.Figure at 0x7f2cd09547d0>"
      ]
     },
     "metadata": {},
     "output_type": "display_data"
    }
   ],
   "source": [
    "resample = live_cdf.Sample(1000)\n",
    "thinkplot.Cdf(live_cdf)\n",
    "thinkplot.Cdf(thinkstats2.Cdf(resample, label='resample'))\n",
    "thinkplot.Config(xlabel='Birth weight (pounds)', ylabel='CDF')"
   ]
  },
  {
   "cell_type": "markdown",
   "metadata": {},
   "source": [
    "This confirms that the random sample has the same distribution as the original data."
   ]
  },
  {
   "cell_type": "markdown",
   "metadata": {
    "collapsed": true
   },
   "source": [
    "## Exercises"
   ]
  },
  {
   "cell_type": "markdown",
   "metadata": {
    "collapsed": true
   },
   "source": [
    "**Exercise:** How much did you weigh at birth? If you don’t know, call your mother or someone else who knows. Using the NSFG data (all live births), compute the distribution of birth weights and use it to find your percentile rank. If you were a first baby, find your percentile rank in the distribution for first babies. Otherwise use the distribution for others. If you are in the 90th percentile or higher, call your mother back and apologize."
   ]
  },
  {
   "cell_type": "code",
   "execution_count": 6,
   "metadata": {},
   "outputs": [],
   "source": [
    "# Solution goes here\n",
    "import first, nsfg, thinkplot, thinkstats2\n",
    "\n",
    "live, firsts, others = first.MakeFrames()\n",
    "first_wgt = firsts.totalwgt_lb\n",
    "first_wgt_dropna = first_wgt.dropna()"
   ]
  },
  {
   "cell_type": "code",
   "execution_count": 15,
   "metadata": {},
   "outputs": [
    {
     "data": {
      "text/plain": [
       "48.23529411764706"
      ]
     },
     "execution_count": 15,
     "metadata": {},
     "output_type": "execute_result"
    },
    {
     "data": {
      "image/png": "[encoded data removed]",
      "text/plain": [
       "<matplotlib.figure.Figure at 0x20f8049da20>"
      ]
     },
     "metadata": {},
     "output_type": "display_data"
    }
   ],
   "source": [
    "# Solution goes here\n",
    "\n",
    "first_pmf = thinkstats2.Pmf(first_wgt_dropna, label='first')\n",
    "thinkplot.Hist(first_pmf, align='right')\n",
    "\n",
    "def PercentileRank(scores, your_score):\n",
    "    count = 0\n",
    "    for score in scores:\n",
    "        if score <= your_score:\n",
    "            count += 1\n",
    "\n",
    "    percentile_rank = 100.0 * count / len(scores)\n",
    "    return percentile_rank\n",
    "\n",
    "my_rank = PercentileRank(first_pmf, 6.34)\n",
    "my_rank"
   ]
  },
  {
   "cell_type": "markdown",
   "metadata": {
    "collapsed": true
   },
   "source": [
    "**Exercise:** The numbers generated by `numpy.random.random` are supposed to be uniform between 0 and 1; that is, every value in the range should have the same probability.\n",
    "\n",
    "Generate 1000 numbers from `numpy.random.random` and plot their PMF.  What goes wrong?\n",
    "\n",
    "Now plot the CDF. Is the distribution uniform?"
   ]
  },
  {
   "cell_type": "code",
   "execution_count": 43,
   "metadata": {},
   "outputs": [
    {
     "data": {
      "text/plain": [
       "array([2.28429808e-01, 8.40064431e-01, 6.27483447e-01, 8.12685182e-01,\n",
       "       2.30963909e-01, 2.55071019e-04, 1.19708972e-01, 7.37593156e-01,\n",
       "       5.42625428e-01, 4.60489373e-01, 9.59004568e-01, 2.15171656e-02,\n",
       "       1.83118071e-01, 7.77078177e-01, 8.02431438e-01, 7.44484574e-01,\n",
       "       3.41981038e-02, 4.25151100e-01, 9.01605347e-01, 2.39652164e-01,\n",
       "       2.46436515e-01, 5.21510813e-01, 5.39391420e-01, 9.56407969e-02,\n",
       "       1.57002753e-01, 3.24193526e-01, 4.57906257e-01, 9.23971382e-01,\n",
       "       1.44426087e-01, 5.08344317e-01, 7.28062093e-01, 2.16231173e-01,\n",
       "       1.57779423e-01, 6.34096546e-01, 5.36600549e-01, 1.37055059e-01,\n",
       "       5.73147032e-01, 4.28734795e-02, 2.10705831e-01, 6.64983942e-01,\n",
       "       8.16277472e-01, 1.43802932e-01, 1.72028183e-01, 6.35089928e-01,\n",
       "       7.89386600e-01, 2.40662006e-01, 5.88469555e-01, 7.03798545e-02,\n",
       "       8.41971816e-01, 7.41711683e-01, 3.15375872e-01, 8.17993710e-01,\n",
       "       7.21172035e-01, 4.49511009e-01, 8.76269387e-01, 6.35511302e-01,\n",
       "       1.16051955e-01, 7.08805620e-01, 5.85690432e-01, 3.95068110e-01,\n",
       "       4.25661745e-01, 7.85302730e-02, 6.55218659e-01, 8.40287190e-03,\n",
       "       9.94528676e-01, 4.43911707e-01, 6.77843440e-01, 2.70033838e-01,\n",
       "       5.33588409e-01, 6.18257272e-01, 3.81996736e-01, 6.11395614e-01,\n",
       "       1.05871283e-01, 1.38536835e-01, 4.35314136e-01, 1.56461017e-01,\n",
       "       6.38805906e-01, 9.26015381e-01, 9.69926288e-01, 4.94569267e-01,\n",
       "       6.03262217e-01, 2.36137911e-02, 4.24010374e-01, 1.82205581e-01,\n",
       "       7.40251539e-01, 9.78053590e-01, 9.54213446e-01, 1.17359362e-01,\n",
       "       4.63506699e-01, 7.04888800e-01, 6.81383923e-01, 2.91807902e-01,\n",
       "       5.70414637e-01, 7.44627690e-01, 4.37118756e-01, 5.02707831e-01,\n",
       "       6.32578227e-01, 9.46199672e-02, 1.99515065e-02, 5.27608898e-01,\n",
       "       4.09794781e-01, 4.96833732e-01, 4.87156272e-01, 6.20338795e-01,\n",
       "       1.54386870e-01, 9.53817334e-01, 9.00343277e-01, 9.85264805e-01,\n",
       "       2.53733422e-02, 1.05482110e-01, 7.40044225e-01, 7.81953280e-01,\n",
       "       7.44301044e-01, 6.10383021e-01, 8.63737242e-01, 4.99836954e-01,\n",
       "       1.75643297e-01, 3.07437151e-01, 7.45702729e-01, 6.84824161e-01,\n",
       "       2.49682704e-01, 6.66611579e-01, 9.84896230e-01, 4.34726137e-01,\n",
       "       6.54436948e-01, 8.90360199e-01, 1.62698487e-01, 3.54933131e-01,\n",
       "       8.17071629e-01, 5.26492077e-01, 9.05710067e-01, 5.71356800e-01,\n",
       "       2.90874036e-02, 6.18934119e-01, 1.40492167e-01, 4.86818720e-01,\n",
       "       8.15317028e-01, 1.17572080e-01, 1.78629426e-01, 7.15014357e-01,\n",
       "       1.24639014e-01, 6.02501889e-01, 4.62010190e-01, 7.36114850e-01,\n",
       "       1.66590585e-01, 5.92208867e-01, 8.45644486e-01, 8.75065995e-01,\n",
       "       9.77804438e-01, 1.63413493e-02, 2.87630948e-01, 3.45798370e-01,\n",
       "       8.24693902e-01, 4.02939638e-01, 3.44256677e-01, 6.35317720e-01,\n",
       "       8.98738686e-01, 8.94011258e-01, 6.79104181e-01, 1.10130596e-01,\n",
       "       1.67712467e-01, 6.00595291e-01, 7.56053773e-01, 3.29855204e-01,\n",
       "       6.98240422e-01, 7.93204100e-01, 5.19400095e-01, 9.15590388e-01,\n",
       "       8.96999463e-01, 2.94506043e-01, 8.47198899e-01, 9.48872575e-01,\n",
       "       2.51763798e-01, 7.69529179e-01, 6.75063245e-01, 2.82375562e-01,\n",
       "       9.75327764e-01, 7.55067946e-01, 8.76025774e-01, 6.73345067e-01,\n",
       "       6.60871708e-01, 9.54872043e-01, 1.30432421e-01, 2.33340343e-01,\n",
       "       1.73830491e-01, 5.40615537e-01, 1.07744863e-02, 8.86525637e-01,\n",
       "       5.91705183e-01, 1.14484414e-02, 4.92813892e-01, 8.42313254e-01,\n",
       "       9.45034651e-01, 1.08346733e-01, 5.55097434e-01, 6.72647206e-01,\n",
       "       4.73663829e-01, 5.27952832e-01, 4.45529642e-01, 4.15539682e-01,\n",
       "       2.37542271e-01, 2.36200855e-01, 6.14967133e-01, 1.47188358e-01,\n",
       "       6.58060482e-01, 3.76222124e-02, 9.09656486e-01, 2.30235335e-01,\n",
       "       4.99067436e-01, 7.26896169e-01, 1.96074090e-01, 9.30818089e-01,\n",
       "       5.57272464e-02, 3.40484692e-02, 3.30431448e-01, 1.46219574e-01,\n",
       "       2.17476238e-01, 2.59782559e-01, 2.35910186e-01, 1.71817144e-01,\n",
       "       3.86260913e-01, 1.75496262e-01, 3.05767108e-01, 8.60819434e-01,\n",
       "       8.10313598e-01, 3.65291176e-01, 7.79196407e-01, 2.75271213e-01,\n",
       "       8.44898629e-01, 5.79155967e-01, 2.20158548e-01, 1.87789496e-01,\n",
       "       9.81690873e-01, 8.46969527e-01, 5.76937589e-02, 9.11919401e-02,\n",
       "       9.86131214e-01, 1.06440060e-01, 6.52214271e-01, 9.59002042e-01,\n",
       "       4.28717202e-01, 3.88579179e-01, 8.84469306e-01, 9.38609602e-02,\n",
       "       2.24303148e-01, 2.06554998e-01, 3.91037885e-01, 2.79766574e-01,\n",
       "       1.12050325e-01, 1.38297220e-01, 4.43562658e-01, 4.15748598e-01,\n",
       "       9.92262584e-01, 5.56589029e-01, 6.65379931e-01, 9.10071079e-01,\n",
       "       9.61840941e-01, 6.12052831e-01, 9.69052162e-01, 3.92903101e-01,\n",
       "       9.08805069e-01, 5.98032980e-01, 5.84545311e-01, 3.30956098e-01,\n",
       "       5.80941037e-01, 2.36612268e-01, 3.61167119e-01, 8.18369175e-01,\n",
       "       4.95544084e-01, 4.43643255e-01, 9.48453466e-01, 3.03948785e-01,\n",
       "       6.30966090e-01, 3.37271303e-01, 7.38371167e-01, 3.99267370e-01,\n",
       "       8.52072973e-01, 1.74995873e-01, 3.80661676e-01, 1.47254277e-01,\n",
       "       8.47765115e-01, 8.53978990e-02, 7.02932613e-01, 1.53496495e-01,\n",
       "       5.86753953e-01, 4.28123680e-01, 6.81981659e-01, 9.03484537e-01,\n",
       "       2.73553648e-01, 8.73810545e-01, 1.16751956e-01, 9.15271385e-03,\n",
       "       1.67279633e-02, 9.48191689e-01, 6.29560160e-01, 3.88655907e-01,\n",
       "       7.80424628e-01, 8.71225799e-01, 3.93624293e-01, 9.48231622e-02,\n",
       "       5.49529926e-01, 9.26989546e-01, 9.82401148e-02, 6.23771348e-01,\n",
       "       9.33885791e-01, 8.35816301e-03, 5.41850496e-01, 9.72612986e-02,\n",
       "       3.61154169e-01, 5.18868307e-01, 9.52004188e-01, 1.01345419e-02,\n",
       "       8.32079175e-01, 8.25374679e-01, 9.46822225e-02, 8.15314660e-03,\n",
       "       2.19857685e-01, 9.68735164e-01, 5.80556408e-01, 4.71174057e-01,\n",
       "       8.61049954e-01, 2.17842392e-01, 8.91951761e-01, 9.54240150e-02,\n",
       "       3.79664906e-01, 7.18190049e-01, 1.17705116e-01, 2.76243630e-01,\n",
       "       4.92798995e-01, 8.95187494e-01, 6.18377192e-01, 6.79804012e-01,\n",
       "       3.96514923e-01, 2.92844644e-01, 7.41537645e-01, 3.20288820e-01,\n",
       "       2.01479571e-01, 6.81579016e-01, 5.11906348e-01, 4.25821145e-02,\n",
       "       9.22339635e-01, 6.75474593e-01, 6.68523447e-01, 7.20443730e-01,\n",
       "       1.40950372e-01, 5.02616761e-02, 3.31600090e-01, 1.22553919e-01,\n",
       "       3.04508758e-01, 1.93402716e-01, 8.83467118e-01, 9.31086736e-01,\n",
       "       4.21043268e-01, 3.76564480e-02, 8.22813832e-01, 1.33085016e-01,\n",
       "       4.64495442e-01, 9.62783639e-01, 6.50426135e-01, 5.78639325e-01,\n",
       "       9.90698083e-01, 9.06147030e-02, 9.42177227e-01, 8.32300997e-01,\n",
       "       9.28682056e-01, 4.70555847e-01, 2.24697207e-01, 5.63555232e-01,\n",
       "       1.27294820e-01, 2.99602171e-02, 2.19346172e-01, 3.67666246e-01,\n",
       "       8.85438146e-02, 5.34307484e-01, 5.89236674e-01, 2.65631592e-01,\n",
       "       1.58504363e-01, 8.90641655e-01, 9.80315091e-02, 9.43915377e-01,\n",
       "       7.68592683e-01, 3.92012081e-01, 5.64601011e-02, 7.98487864e-01,\n",
       "       2.52927124e-01, 7.26513644e-01, 9.18046820e-01, 7.80503204e-01,\n",
       "       2.95100584e-01, 3.39460370e-01, 3.39906538e-01, 3.22365807e-01,\n",
       "       8.50146697e-01, 4.29928179e-01, 5.30593494e-01, 4.22555650e-01,\n",
       "       2.34033999e-01, 3.84320970e-01, 3.66104297e-01, 2.15002410e-01,\n",
       "       3.01165927e-01, 2.88356668e-01, 5.20386338e-01, 5.69800783e-01,\n",
       "       5.83177926e-01, 7.41609749e-01, 7.42584585e-01, 5.45037043e-01,\n",
       "       5.22578512e-01, 7.23228319e-01, 6.88930549e-01, 9.19897697e-01,\n",
       "       7.87278214e-01, 3.15376131e-01, 5.10330940e-01, 7.23636919e-01,\n",
       "       2.58554682e-01, 2.38157294e-01, 4.11550286e-01, 8.11961752e-01,\n",
       "       7.14786478e-01, 3.09723733e-01, 8.23246026e-01, 4.57259078e-01,\n",
       "       8.54370668e-01, 3.46224282e-01, 3.14881439e-01, 2.04035093e-01,\n",
       "       9.82622022e-01, 9.00369141e-01, 5.84706846e-01, 8.73205666e-01,\n",
       "       5.19381773e-01, 2.04361033e-02, 6.99538446e-01, 9.01049992e-01,\n",
       "       2.74877014e-01, 4.18253130e-01, 8.22837829e-01, 2.48634679e-03,\n",
       "       1.46735689e-01, 6.92709826e-01, 2.63448100e-01, 6.60657528e-01,\n",
       "       5.51098971e-01, 5.19369244e-01, 5.82266694e-01, 9.55831419e-01,\n",
       "       1.05823833e-01, 7.71682373e-01, 9.64090919e-02, 4.31542598e-01,\n",
       "       5.82522932e-01, 5.46651229e-01, 4.99467717e-02, 3.41013067e-01,\n",
       "       2.75014740e-01, 4.27756923e-01, 2.41590336e-01, 8.88269337e-01,\n",
       "       3.88495839e-01, 1.76355077e-01, 3.51559329e-01, 8.20137954e-01,\n",
       "       6.82799516e-01, 1.50198032e-01, 4.26202721e-03, 2.05631690e-01,\n",
       "       9.44716263e-01, 2.44062078e-01, 7.45230720e-01, 9.14097436e-01,\n",
       "       6.07636916e-01, 9.59125273e-02, 3.58417329e-01, 2.27680272e-02,\n",
       "       2.65315535e-02, 9.33985001e-01, 8.77117166e-01, 3.50776953e-01,\n",
       "       8.15477612e-02, 3.54690537e-01, 6.31606734e-01, 4.70940243e-01,\n",
       "       5.16333427e-01, 7.33319150e-01, 4.17311061e-01, 8.23975699e-01,\n",
       "       5.35257852e-02, 8.24084300e-01, 4.56965082e-01, 4.80978744e-01,\n",
       "       8.00868025e-01, 3.81325546e-01, 7.07645061e-01, 7.24411994e-01,\n",
       "       6.64450959e-01, 4.68052132e-01, 6.06908345e-01, 9.95099041e-01,\n",
       "       7.64625202e-01, 1.05304692e-02, 8.83609550e-01, 7.61966807e-01,\n",
       "       4.07953738e-01, 6.07431592e-01, 3.72787796e-01, 6.67238879e-01,\n",
       "       3.17802270e-01, 2.07170835e-01, 7.60079762e-02, 9.92262684e-01,\n",
       "       8.04485021e-01, 3.07816965e-02, 8.80055752e-02, 5.40076888e-01,\n",
       "       8.12708304e-01, 3.27536970e-01, 7.53750888e-02, 2.81237606e-01,\n",
       "       3.28351231e-01, 8.39628167e-01, 7.75098046e-01, 9.51224935e-01,\n",
       "       6.98131926e-02, 8.40643037e-01, 6.01209524e-01, 2.13636674e-02,\n",
       "       3.60096645e-01, 8.06018128e-01, 9.21038710e-01, 3.06773347e-01,\n",
       "       9.94290318e-01, 5.96381115e-01, 1.80040064e-01, 6.34838460e-01,\n",
       "       7.17692562e-01, 9.86631777e-01, 6.53501218e-01, 4.51290433e-01,\n",
       "       9.52566271e-01, 6.84861817e-01, 7.83820339e-01, 9.39257111e-01,\n",
       "       2.16199932e-01, 7.49036062e-01, 9.52893683e-01, 4.76115998e-02,\n",
       "       6.40448188e-01, 5.91260824e-01, 7.12304705e-01, 1.61274810e-01,\n",
       "       1.14349892e-01, 8.57991610e-02, 5.79225569e-01, 2.39816315e-01,\n",
       "       6.11201817e-01, 3.07640921e-01, 4.27026510e-02, 1.87921134e-02,\n",
       "       8.92353524e-01, 4.14594292e-01, 9.29515468e-01, 3.06318855e-01,\n",
       "       7.78529942e-01, 1.89995967e-01, 1.89100958e-02, 9.88806887e-01,\n",
       "       5.55930795e-01, 7.25839963e-01, 3.90342379e-01, 5.05050760e-01,\n",
       "       3.00808839e-01, 3.80459986e-01, 7.14610583e-01, 9.98326508e-01,\n",
       "       1.59286324e-01, 4.99422909e-01, 6.92312763e-01, 4.51600289e-01,\n",
       "       8.32654463e-01, 1.77486856e-02, 4.63442550e-01, 5.71597783e-01,\n",
       "       9.26819890e-01, 9.03090940e-01, 9.37639593e-01, 9.26075315e-01,\n",
       "       5.18574200e-01, 9.70318169e-01, 7.10506470e-01, 5.16730250e-01,\n",
       "       2.10266189e-01, 2.45442533e-01, 2.36493726e-01, 7.22679906e-01,\n",
       "       4.19131324e-01, 4.52262938e-01, 5.17794897e-01, 4.50354132e-01,\n",
       "       7.94657969e-02, 1.79230630e-01, 7.97030992e-02, 2.62012221e-02,\n",
       "       6.51317204e-02, 9.23268442e-01, 4.40509133e-01, 3.65989590e-01,\n",
       "       6.79087093e-01, 7.48636803e-01, 8.33103441e-01, 3.58308881e-01,\n",
       "       1.11303311e-01, 2.70779514e-01, 8.33172584e-01, 8.85743280e-01,\n",
       "       9.87326837e-01, 9.94523131e-01, 2.77647928e-01, 2.16985507e-01,\n",
       "       2.27388348e-01, 8.70263949e-01, 3.34759306e-01, 3.37625748e-01,\n",
       "       7.04752936e-01, 1.41561853e-01, 1.70381925e-01, 5.05242654e-01,\n",
       "       1.90448887e-01, 5.63726317e-03, 2.75413309e-01, 5.34666035e-01,\n",
       "       4.77152425e-01, 7.08797965e-01, 8.04723117e-01, 9.57771837e-01,\n",
       "       7.38407864e-01, 7.74334158e-01, 3.28112556e-01, 3.55096939e-01,\n",
       "       3.01746891e-01, 6.74070467e-01, 5.27506400e-01, 3.82484005e-01,\n",
       "       6.85919745e-01, 8.21943872e-02, 3.39380677e-01, 9.15927822e-01,\n",
       "       5.02273015e-01, 7.18796284e-01, 6.22272550e-01, 7.54231676e-01,\n",
       "       1.42574672e-01, 3.22846635e-01, 7.08045018e-01, 2.85079915e-01,\n",
       "       3.75506671e-01, 3.98945451e-01, 8.85408956e-01, 4.09330589e-01,\n",
       "       7.60095340e-01, 4.21363605e-01, 4.84821214e-02, 6.78279885e-01,\n",
       "       4.93219454e-01, 3.12123083e-01, 6.30654691e-01, 8.43159819e-01,\n",
       "       8.80936658e-03, 9.49582099e-01, 5.00302385e-01, 6.21914439e-01,\n",
       "       8.87227975e-01, 2.59983275e-01, 1.51173408e-02, 1.52590696e-01,\n",
       "       8.66763929e-01, 5.08456723e-01, 7.84237341e-01, 8.04448200e-01,\n",
       "       5.79460749e-01, 4.85914837e-01, 4.54416822e-01, 9.87002474e-01,\n",
       "       5.05846819e-01, 8.01939430e-01, 4.45393330e-01, 9.51397239e-01,\n",
       "       8.75140320e-02, 4.14680752e-01, 1.07609934e-01, 6.28192767e-01,\n",
       "       8.23510971e-01, 4.92394560e-02, 6.62548030e-01, 6.71977618e-01,\n",
       "       3.20099925e-01, 7.01329924e-01, 1.89003648e-01, 9.28092886e-01,\n",
       "       5.34157425e-01, 8.56824536e-01, 8.55870844e-01, 9.51854657e-01,\n",
       "       3.69582332e-01, 3.21629831e-01, 5.22544764e-01, 9.85525655e-01,\n",
       "       4.14898283e-01, 8.15923992e-01, 4.47072718e-01, 9.60235098e-01,\n",
       "       7.43236029e-01, 4.98729016e-01, 9.60734569e-01, 9.62971772e-01,\n",
       "       3.98101434e-01, 7.48857275e-02, 1.69546157e-01, 4.49255169e-01,\n",
       "       1.35594548e-01, 5.22534988e-01, 7.38088011e-01, 3.09140620e-01,\n",
       "       6.42158231e-01, 3.05353549e-02, 5.41938104e-01, 5.46192755e-01,\n",
       "       3.82344377e-01, 3.77081882e-01, 5.42915894e-01, 8.18329200e-02,\n",
       "       8.97884613e-01, 6.37405885e-01, 4.46485116e-01, 8.89338459e-02,\n",
       "       3.39507098e-01, 9.74693495e-01, 4.36311409e-01, 7.45304935e-01,\n",
       "       9.43927060e-01, 8.74602539e-01, 3.05087269e-01, 3.72707804e-02,\n",
       "       6.26133058e-01, 9.21449930e-01, 5.77169008e-01, 5.65684834e-01,\n",
       "       3.91162912e-01, 8.18320326e-01, 8.91663874e-01, 1.27260370e-01,\n",
       "       4.71727248e-01, 6.40203683e-01, 6.19769294e-01, 5.47549805e-01,\n",
       "       6.64930571e-01, 8.77063369e-01, 7.64702544e-01, 7.90069427e-01,\n",
       "       7.51357073e-01, 7.83204862e-01, 9.07261003e-01, 9.28919942e-01,\n",
       "       6.03902751e-01, 8.83748963e-01, 1.02708155e-01, 5.84526674e-01,\n",
       "       2.48960592e-01, 5.57806536e-01, 1.16010439e-01, 1.83874649e-01,\n",
       "       2.54220855e-01, 7.20757058e-01, 7.11492685e-01, 6.21795129e-01,\n",
       "       8.48482094e-01, 9.67690842e-01, 7.93901569e-01, 8.92766610e-01,\n",
       "       7.94383459e-01, 9.83487000e-02, 9.18466158e-01, 3.47664394e-01,\n",
       "       3.26048884e-01, 6.88283391e-01, 6.84777576e-02, 1.53870089e-01,\n",
       "       2.63596208e-01, 3.53811049e-01, 8.22274932e-01, 9.66740902e-01,\n",
       "       5.43778242e-01, 6.56237377e-01, 5.55976626e-01, 1.34981428e-01,\n",
       "       1.00076706e-01, 7.05043171e-01, 3.22889087e-01, 5.78211092e-01,\n",
       "       1.50467427e-01, 7.55423711e-01, 1.82341916e-01, 7.75920210e-01,\n",
       "       8.38799085e-02, 9.85765653e-01, 9.09663081e-01, 1.38109414e-01,\n",
       "       2.04621629e-01, 7.43465867e-01, 4.76383352e-01, 7.83717769e-01,\n",
       "       3.95340551e-01, 6.37576384e-01, 8.41294047e-02, 8.44476610e-02,\n",
       "       1.33228356e-01, 4.81366805e-01, 3.87118257e-01, 7.23566728e-01,\n",
       "       8.75726260e-01, 4.03836438e-01, 3.76537384e-01, 3.75008917e-01,\n",
       "       2.34143144e-02, 1.04833505e-01, 3.37514895e-02, 9.22352062e-01,\n",
       "       6.63803344e-01, 6.25897988e-01, 5.36596100e-01, 5.03214670e-01,\n",
       "       2.19806897e-01, 5.89118310e-01, 7.97901553e-01, 1.32386886e-01,\n",
       "       5.99658270e-01, 7.32319395e-01, 9.42252613e-01, 8.18234807e-01,\n",
       "       4.62331224e-01, 9.25840918e-01, 4.55347852e-01, 6.97755171e-01,\n",
       "       5.85779068e-01, 2.77791332e-01, 8.25925397e-01, 4.09760927e-02,\n",
       "       4.21551504e-01, 4.50059195e-01, 7.20967467e-01, 2.79923095e-01,\n",
       "       9.79166529e-01, 7.00940196e-01, 4.25573220e-01, 6.66196965e-01,\n",
       "       9.20958309e-01, 9.14686521e-02, 2.88016162e-01, 1.07364233e-01,\n",
       "       3.35361553e-01, 3.41451037e-01, 9.22272440e-01, 4.89330634e-03,\n",
       "       9.98825058e-01, 4.65840626e-01, 3.68308987e-01, 3.58046387e-01,\n",
       "       3.71921140e-01, 4.73218010e-01, 8.08409003e-01, 2.71688116e-01,\n",
       "       3.66897363e-01, 9.12800602e-01, 5.21377604e-01, 5.41005772e-01,\n",
       "       1.09986178e-01, 1.40779878e-01, 6.76262263e-02, 8.00574394e-01,\n",
       "       2.73949531e-01, 2.98857783e-01, 7.07778738e-02, 8.64946348e-01,\n",
       "       8.01621621e-01, 6.47549436e-01, 5.73649887e-01, 5.01453159e-01,\n",
       "       8.47800856e-01, 7.88715010e-01, 4.87485076e-01, 4.92216976e-02,\n",
       "       2.80779027e-01, 3.13081002e-01, 3.90107248e-01, 7.06314091e-01,\n",
       "       2.17062850e-01, 2.75391666e-01, 6.94267660e-01, 1.37435156e-01,\n",
       "       5.86362555e-01, 9.92478738e-01, 1.32056407e-01, 5.73630154e-02,\n",
       "       4.38166571e-01, 4.11513054e-01, 5.12007979e-01, 1.33137966e-01,\n",
       "       4.98998269e-01, 6.60401951e-01, 1.66297209e-01, 9.54350212e-01,\n",
       "       8.20288957e-01, 4.59546093e-01, 5.78184746e-01, 3.08093548e-02,\n",
       "       7.96151730e-01, 8.12488820e-02, 3.18583348e-01, 8.56062492e-01,\n",
       "       2.35300219e-02, 8.20297644e-01, 4.34855824e-02, 7.20799024e-01,\n",
       "       1.96608691e-01, 8.15100607e-01, 4.40927247e-01, 5.92327193e-02,\n",
       "       9.34070528e-01, 1.19527199e-01, 3.19458523e-01, 2.48974832e-01,\n",
       "       5.42535739e-01, 3.14875697e-01, 4.23985711e-01, 9.43907851e-01,\n",
       "       3.81461573e-01, 3.43144793e-01, 4.56956172e-01, 6.88564984e-01,\n",
       "       2.05675672e-01, 6.73960572e-01, 6.36576946e-01, 9.34873866e-01,\n",
       "       9.05264583e-01, 8.43364388e-01, 1.07768034e-02, 5.88909288e-01,\n",
       "       6.59721717e-01, 3.38616761e-01, 7.07848965e-01, 2.87217054e-01,\n",
       "       6.99844970e-01, 7.91485296e-01, 3.91987819e-01, 9.32716015e-01,\n",
       "       8.00718902e-01, 8.98309174e-01, 2.83851842e-01, 3.03087895e-01,\n",
       "       6.28909602e-02, 5.43302970e-01, 6.23462770e-01, 8.11763905e-01,\n",
       "       2.01874911e-02, 7.01515039e-01, 9.47255378e-02, 6.38442360e-01,\n",
       "       1.88415090e-01, 2.19021547e-01, 5.80842502e-01, 7.49349335e-02,\n",
       "       3.23882949e-01, 9.95139536e-01, 7.20482979e-01, 9.65282351e-01,\n",
       "       6.57411051e-01, 8.36551357e-01, 6.73099105e-01, 2.47979416e-01,\n",
       "       6.99677999e-01, 5.26911807e-01, 9.98589794e-01, 3.30898634e-01,\n",
       "       8.10441178e-01, 8.51645725e-01, 6.29315873e-01, 7.99631584e-01,\n",
       "       9.11968693e-01, 7.31359775e-01, 6.53739307e-01, 8.24655128e-01,\n",
       "       3.72119342e-01, 6.83024553e-01, 8.65051731e-01, 6.94048383e-01,\n",
       "       1.85085726e-01, 2.85058549e-01, 7.83382523e-03, 6.81623368e-01])"
      ]
     },
     "execution_count": 43,
     "metadata": {},
     "output_type": "execute_result"
    }
   ],
   "source": [
    "# Solution goes here\n",
    "import numpy as np, thinkstats2\n",
    "randnums = np.random.random(1000)\n",
    "rand_pmf = thinkstats2.Pmf(randnums)"
   ]
  },
  {
   "cell_type": "code",
   "execution_count": 44,
   "metadata": {},
   "outputs": [
    {
     "name": "stderr",
     "output_type": "stream",
     "text": [
      "No handles with labels found to put in legend.\n"
     ]
    },
    {
     "data": {
      "image/png": "[encoded data removed]",
      "text/plain": [
       "<matplotlib.figure.Figure at 0x20f838b5908>"
      ]
     },
     "metadata": {},
     "output_type": "display_data"
    }
   ],
   "source": [
    "# Solution goes here\n",
    "import thinkplot\n",
    "thinkplot.Pmf(rand_pmf, linewidth=0.1)\n",
    "thinkplot.Config(xlabel='Random values', ylabel='PMF')\n"
   ]
  },
  {
   "cell_type": "code",
   "execution_count": 45,
   "metadata": {},
   "outputs": [
    {
     "name": "stderr",
     "output_type": "stream",
     "text": [
      "No handles with labels found to put in legend.\n"
     ]
    },
    {
     "data": {
      "image/png": "[encoded data removed]",
      "text/plain": [
       "<matplotlib.figure.Figure at 0x20f8032c668>"
      ]
     },
     "metadata": {},
     "output_type": "display_data"
    }
   ],
   "source": [
    "rand_cdf = thinkstats2.Cdf(randnums)\n",
    "thinkplot.Cdf(rand_cdf)\n",
    "thinkplot.Config(xlabel='Random values', ylabel='CDF')"
   ]
  },
  {
   "cell_type": "code",
   "execution_count": 30,
   "metadata": {},
   "outputs": [],
   "source": [
    "# Solution goes here"
   ]
  },
  {
   "cell_type": "code",
   "execution_count": null,
   "metadata": {},
   "outputs": [],
   "source": []
  }
 ],
 "metadata": {
  "kernelspec": {
   "display_name": "Python 3",
   "language": "python",
   "name": "python3"
  },
  "language_info": {
   "codemirror_mode": {
    "name": "ipython",
    "version": 3
   },
   "file_extension": ".py",
   "mimetype": "text/x-python",
   "name": "python",
   "nbconvert_exporter": "python",
   "pygments_lexer": "ipython3",
   "version": "3.6.3"
  }
 },
 "nbformat": 4,
 "nbformat_minor": 1
}
